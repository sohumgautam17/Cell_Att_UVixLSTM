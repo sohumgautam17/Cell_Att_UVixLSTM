{
  "cells": [
    {
      "cell_type": "code",
      "execution_count": 1,
      "metadata": {
        "id": "HVUEPP4tTvKr"
      },
      "outputs": [],
      "source": [
        "import torch\n",
        "import sklearn\n",
        "import os\n",
        "import numpy\n",
        "import pandas as pd\n",
        "import matplotlib.pyplot as plt\n",
        "import cv2\n",
        "import requests\n",
        "from pathlib import Path\n",
        "import xml.etree.ElementTree as ET\n",
        "from PIL import Image"
      ]
    },
    {
      "cell_type": "code",
      "execution_count": 2,
      "metadata": {
        "id": "iFSrrgWTgpx_"
      },
      "outputs": [
        {
          "name": "stderr",
          "output_type": "stream",
          "text": [
            "/mnt/data2/sohum/miniconda3/envs/cmu_cell_seg/lib/python3.8/site-packages/tqdm/auto.py:21: TqdmWarning: IProgress not found. Please update jupyter and ipywidgets. See https://ipywidgets.readthedocs.io/en/stable/user_install.html\n",
            "  from .autonotebook import tqdm as notebook_tqdm\n"
          ]
        },
        {
          "name": "stdout",
          "output_type": "stream",
          "text": [
            "Output shape: torch.Size([8, 1, 256, 256])\n"
          ]
        }
      ],
      "source": [
        "from models.UVixLSTM_Att import UVixLSTM_Att\n",
        "sample_input = torch.randn(8, 3, 256, 256)  \n",
        "model = UVixLSTM_Att(class_num=1, img_dim = 256, in_channels=3)\n",
        "\n",
        "output = model(sample_input)\n",
        "\n",
        "print(f'Output shape: {output.shape}')"
      ]
    },
    {
      "cell_type": "code",
      "execution_count": 3,
      "metadata": {},
      "outputs": [
        {
          "name": "stdout",
          "output_type": "stream",
          "text": [
            "Key: original_image, Length: 60\n",
            "Key: mask, Length: 60\n",
            "Key: aug_images, Length: 360\n",
            "Key: aug_masks, Length: 360\n",
            "Key: patched_orig_images, Length: 16\n",
            "Key: patched_orig_masks, Length: 16\n",
            "Key: patched_aug_images, Length: 96\n",
            "Key: patched_aug_masks, Length: 96\n",
            "Key: train_patched_images, Length: 84\n",
            "Key: train_patched_masks, Length: 84\n",
            "Key: val_patched_images, Length: 20\n",
            "Key: val_patched_masks, Length: 20\n",
            "Key: test_patched_images, Length: 8\n",
            "Key: test_patched_masks, Length: 8\n"
          ]
        }
      ],
      "source": [
        "import numpy as np\n",
        "\n",
        "# Load the data dictionary\n",
        "data = np.load('./Data/all_data.npy', allow_pickle=True).item()\n",
        "\n",
        "# Print the length of each key's value\n",
        "for key, value in data.items():\n",
        "    if isinstance(value, list):\n",
        "        print(f\"Key: {key}, Length: {len(value)}\")\n",
        "    else:\n",
        "        print(f\"Key: {key}, Value: Not a list (type: {type(value)})\")\n"
      ]
    },
    {
      "cell_type": "code",
      "execution_count": 120,
      "metadata": {},
      "outputs": [
        {
          "name": "stdout",
          "output_type": "stream",
          "text": [
            "Extracted portion shape: (3, 2000, 2000)\n"
          ]
        }
      ],
      "source": [
        "import rasterio\n",
        "import numpy as np\n",
        "import imageio\n",
        "\n",
        "# Open the image file\n",
        "file = 'patient_004_node_3.tif'\n",
        "with rasterio.open(f'/mnt/data2/sohum/datasets/camelyon17/images/{file}') as src:\n",
        "    # Define the window to read (e.g., top-left 1000x1000 pixels)\n",
        "    window = rasterio.windows.Window(0, 0, 2000, 2000)\n",
        "    \n",
        "    # Read the window data\n",
        "    image_portion_np = src.read(window=window)\n",
        "    \n",
        "    # Check the shape\n",
        "    print(f\"Extracted portion shape: {image_portion_np.shape}\")\n",
        "\n",
        "    # Remove the batch dimension if it exists\n",
        "    if image_portion_np.ndim == 3 and image_portion_np.shape[0] == 3:\n",
        "        # Rearrange dimensions from (channels, height, width) to (height, width, channels)\n",
        "        image_portion_np = np.transpose(image_portion_np, (1, 2, 0))\n",
        "\n",
        "    # Ensure the image is in a valid format for saving\n",
        "    if image_portion_np.ndim == 3 and image_portion_np.shape[2] in [1, 3]:\n",
        "        # Convert single channel (grayscale) to 2D if needed\n",
        "        if image_portion_np.shape[2] == 1:\n",
        "            image_portion_np = image_portion_np.squeeze(axis=2)\n",
        "        \n",
        "        # Save the image\n",
        "        output_path = f'/mnt/data2/sohum/Cell_Att_UVixLSTM/Data/{file}'\n",
        "        # Ensure the image is in uint8 format for saving\n",
        "        if image_portion_np.dtype != np.uint8:\n",
        "            image_portion_np = np.clip(image_portion_np, 0, 255).astype(np.uint8)\n",
        "        imageio.imwrite(output_path, image_portion_np)\n",
        "    else:\n",
        "        raise ValueError(\"Extracted portion must be 2D (grayscale) or 3D with 3 (RGB) or 4 (RGBA) channels.\")\n"
      ]
    },
    {
      "cell_type": "code",
      "execution_count": 121,
      "metadata": {},
      "outputs": [
        {
          "data": {
            "text/plain": [
              "<matplotlib.image.AxesImage at 0x7f76699e70a0>"
            ]
          },
          "execution_count": 121,
          "metadata": {},
          "output_type": "execute_result"
        },
        {
          "data": {
            "image/png": "[encoded data removed]",
            "text/plain": [
              "<Figure size 640x480 with 1 Axes>"
            ]
          },
          "metadata": {},
          "output_type": "display_data"
        }
      ],
      "source": [
        "import dask_image.imread\n",
        "\n",
        "image = dask_image.imread.imread(f'/mnt/data2/sohum/Cell_Att_UVixLSTM/Data/{file}')\n",
        "image = image.squeeze()\n",
        "plt.imshow(image)\n",
        "\n"
      ]
    },
    {
      "cell_type": "code",
      "execution_count": 2,
      "metadata": {},
      "outputs": [
        {
          "data": {
            "text/plain": [
              "7"
            ]
          },
          "execution_count": 2,
          "metadata": {},
          "output_type": "execute_result"
        }
      ],
      "source": [
        "sum([4, 3])"
      ]
    },
    {
      "cell_type": "code",
      "execution_count": null,
      "metadata": {},
      "outputs": [],
      "source": []
    },
    {
      "cell_type": "code",
      "execution_count": null,
      "metadata": {},
      "outputs": [],
      "source": []
    },
    {
      "cell_type": "code",
      "execution_count": null,
      "metadata": {},
      "outputs": [],
      "source": []
    },
    {
      "cell_type": "code",
      "execution_count": null,
      "metadata": {},
      "outputs": [],
      "source": []
    },
    {
      "cell_type": "code",
      "execution_count": null,
      "metadata": {},
      "outputs": [],
      "source": []
    }
  ],
  "metadata": {
    "colab": {
      "provenance": []
    },
    "kernelspec": {
      "display_name": "Python 3",
      "name": "python3"
    },
    "language_info": {
      "codemirror_mode": {
        "name": "ipython",
        "version": 3
      },
      "file_extension": ".py",
      "mimetype": "text/x-python",
      "name": "python",
      "nbconvert_exporter": "python",
      "pygments_lexer": "ipython3",
      "version": "3.8.19"
    }
  },
  "nbformat": 4,
  "nbformat_minor": 0
}
