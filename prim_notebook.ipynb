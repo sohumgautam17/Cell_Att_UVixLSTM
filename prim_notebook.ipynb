{
  "cells": [
    {
      "cell_type": "code",
      "execution_count": 3,
      "metadata": {
        "id": "HVUEPP4tTvKr"
      },
      "outputs": [],
      "source": [
        "import torch\n",
        "import sklearn\n",
        "import os\n",
        "import numpy\n",
        "import pandas as pd\n",
        "import matplotlib.pyplot as plt\n",
        "import cv2\n",
        "import requests\n",
        "from pathlib import Path\n",
        "import xml.etree.ElementTree as ET\n",
        "from PIL import Image"
      ]
    },
    {
      "cell_type": "code",
      "execution_count": 4,
      "metadata": {
        "id": "iFSrrgWTgpx_"
      },
      "outputs": [
        {
          "name": "stdout",
          "output_type": "stream",
          "text": [
            "num_features maps:256, num_encoder_maps: 256\n",
            "num_features maps:128, num_encoder_maps: 128\n",
            "num_features maps:64, num_encoder_maps: 64\n",
            "Output shape: torch.Size([1, 1, 256, 256])\n"
          ]
        }
      ],
      "source": [
        "from models.twoDUVixLSTM import UVixLSTM\n",
        "sample_input = torch.randn(1, 3, 256, 256)  \n",
        "model = UVixLSTM(class_num=1, img_dim = 256, in_channels=3)\n",
        "\n",
        "output = model(sample_input)\n",
        "\n",
        "print(f'Output shape: {output.shape}')"
      ]
    },
    {
      "cell_type": "code",
      "execution_count": null,
      "metadata": {},
      "outputs": [],
      "source": []
    },
    {
      "cell_type": "code",
      "execution_count": null,
      "metadata": {},
      "outputs": [],
      "source": []
    },
    {
      "cell_type": "code",
      "execution_count": null,
      "metadata": {},
      "outputs": [],
      "source": []
    },
    {
      "cell_type": "code",
      "execution_count": null,
      "metadata": {},
      "outputs": [],
      "source": []
    }
  ],
  "metadata": {
    "colab": {
      "provenance": []
    },
    "kernelspec": {
      "display_name": "Python 3",
      "name": "python3"
    },
    "language_info": {
      "codemirror_mode": {
        "name": "ipython",
        "version": 3
      },
      "file_extension": ".py",
      "mimetype": "text/x-python",
      "name": "python",
      "nbconvert_exporter": "python",
      "pygments_lexer": "ipython3",
      "version": "3.8.19"
    }
  },
  "nbformat": 4,
  "nbformat_minor": 0
}
